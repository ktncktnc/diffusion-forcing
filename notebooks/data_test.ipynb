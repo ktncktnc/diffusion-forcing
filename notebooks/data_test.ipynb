{
 "cells": [
  {
   "cell_type": "code",
   "execution_count": null,
   "metadata": {},
   "outputs": [],
   "source": [
    "import os\n",
    "os.environ['HTTP_PROXY'] = ''\n",
    "os.environ['HTTPS_PROXY'] = ''\n"
   ]
  },
  {
   "cell_type": "code",
   "execution_count": null,
   "metadata": {},
   "outputs": [],
   "source": [
    "import requests\n",
    "\n",
    "# Set up a reverse SSH tunnel as HTTP proxy\n",
    "# Install requests[socks] if needed: pip install requests[socks]\n",
    "proxies = {\n",
    "    'http': 'socks5h://localhost:9091',\n",
    "    'https': 'socks5h://localhost:9091'\n",
    "}\n",
    "\n",
    "# Make your request to archive.org through the proxy\n",
    "response = requests.get('https://google.com', proxies=proxies)\n",
    "print(response.status_code)"
   ]
  }
 ],
 "metadata": {
  "kernelspec": {
   "display_name": "df",
   "language": "python",
   "name": "python3"
  },
  "language_info": {
   "codemirror_mode": {
    "name": "ipython",
    "version": 3
   },
   "file_extension": ".py",
   "mimetype": "text/x-python",
   "name": "python",
   "nbconvert_exporter": "python",
   "pygments_lexer": "ipython3",
   "version": "3.10.16"
  }
 },
 "nbformat": 4,
 "nbformat_minor": 2
}
